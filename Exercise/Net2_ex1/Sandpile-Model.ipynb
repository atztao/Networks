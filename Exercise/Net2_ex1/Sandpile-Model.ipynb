{
 "cells": [
  {
   "cell_type": "code",
   "execution_count": 85,
   "metadata": {
    "collapsed": false
   },
   "outputs": [
    {
     "ename": "SyntaxError",
     "evalue": "invalid syntax (<ipython-input-85-f96d0437dc30>, line 28)",
     "output_type": "error",
     "traceback": [
      "\u001b[0;36m  File \u001b[0;32m\"<ipython-input-85-f96d0437dc30>\"\u001b[0;36m, line \u001b[0;32m28\u001b[0m\n\u001b[0;31m    det Plot_\u001b[0m\n\u001b[0m            ^\u001b[0m\n\u001b[0;31mSyntaxError\u001b[0m\u001b[0;31m:\u001b[0m invalid syntax\n"
     ]
    }
   ],
   "source": [
    "import numpy as np\n",
    "\n",
    "def Creat_Sandpile(L):\n",
    "    return np.zeros((L, L),dtype=np.int)\n",
    "\n",
    "def Add_Sand(N):\n",
    "    Sandpile = Creat_Sandpile(L)\n",
    "    for i in range(N):\n",
    "        x_y = np.random.randint(0,100,2)\n",
    "        #Add_Sand_Nnumber = np.random.randint(0,100,1)\n",
    "        Sandpile[x_y[0]][x_y[1]] = Sandpile[x_y[0]][x_y[1]] + 1\n",
    "        if 4 in Sandpile:\n",
    "            t = 0\n",
    "            for x in range(L):\n",
    "                for y in range(L):\n",
    "                    if Sandpile[x][y] > 3 :\n",
    "                        if x == 0 or x == 99:\n",
    "                            Sandpile[x][y] = Sandpile[x][y] - 4\n",
    "                            Sandpile[x][y-1] = Sandpile[x][y-1] + 1\n",
    "                            Sandpile[x][y+1] = Sandpile[x][y+1] + 1\n",
    "                        else:\n",
    "                            Sandpile[x][y] = Sandpile[x][y] - 4\n",
    "                            Sandpile[x][y-1] = Sandpile[x][y-1] + 1\n",
    "                            Sandpile[x][y+1] = Sandpile[x][y+1] + 1\n",
    "                            Sandpile[x-1][y] = Sandpile[x-1][y] + 1\n",
    "                            Sandpile[x+1][y] = Sandpile[x+1][y] + 1\n",
    "\n",
    "det Plot_\n",
    "    "
   ]
  },
  {
   "cell_type": "code",
   "execution_count": 79,
   "metadata": {
    "collapsed": false
   },
   "outputs": [
    {
     "name": "stdout",
     "output_type": "stream",
     "text": [
      "[29 45]\n",
      "29\n",
      "45\n",
      "[[ 0.  0.]\n",
      " [ 0.  0.]]\n",
      "0.0\n"
     ]
    },
    {
     "data": {
      "text/plain": [
       "numpy.ndarray"
      ]
     },
     "execution_count": 79,
     "metadata": {},
     "output_type": "execute_result"
    }
   ],
   "source": [
    "x_y = np.random.randint(0,100,2)\n",
    "print(x_y)\n",
    "print(x_y[0])\n",
    "print(x_y[1])\n",
    "Creat_Sandpile = np.empty([2, 2])\n",
    "\n",
    "print(Creat_Sandpile)\n",
    "print(Creat_Sandpile[0][1-2])\n",
    "type(Creat_Sandpile)"
   ]
  },
  {
   "cell_type": "code",
   "execution_count": 29,
   "metadata": {
    "collapsed": true
   },
   "outputs": [],
   "source": [
    "?np.random.randint(0,100,2)"
   ]
  },
  {
   "cell_type": "code",
   "execution_count": 80,
   "metadata": {
    "collapsed": false
   },
   "outputs": [
    {
     "name": "stdout",
     "output_type": "stream",
     "text": [
      "[1, 2]\n",
      "3\n"
     ]
    }
   ],
   "source": [
    "a = [1,2]\n",
    "print(a)\n",
    "a[0]=a[-1]+1\n",
    "print(a[0])"
   ]
  },
  {
   "cell_type": "code",
   "execution_count": null,
   "metadata": {
    "collapsed": true
   },
   "outputs": [],
   "source": []
  },
  {
   "cell_type": "code",
   "execution_count": null,
   "metadata": {
    "collapsed": true
   },
   "outputs": [],
   "source": []
  }
 ],
 "metadata": {
  "kernelspec": {
   "display_name": "Python 3",
   "language": "python",
   "name": "python3"
  },
  "language_info": {
   "codemirror_mode": {
    "name": "ipython",
    "version": 3
   },
   "file_extension": ".py",
   "mimetype": "text/x-python",
   "name": "python",
   "nbconvert_exporter": "python",
   "pygments_lexer": "ipython3",
   "version": "3.5.3"
  }
 },
 "nbformat": 4,
 "nbformat_minor": 2
}
