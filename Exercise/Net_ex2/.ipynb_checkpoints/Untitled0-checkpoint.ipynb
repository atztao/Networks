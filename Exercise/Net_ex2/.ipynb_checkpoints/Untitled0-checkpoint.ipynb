{
 "metadata": {
  "name": "",
  "signature": "sha256:2c7bbfa5a82c73f0c460cdcde074ee3788db3496b99e01762e830457a5a0045d"
 },
 "nbformat": 3,
 "nbformat_minor": 0,
 "worksheets": []
}