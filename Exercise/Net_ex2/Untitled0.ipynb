{
 "metadata": {
  "name": "",
  "signature": "sha256:578c59f6fa2e0490347749a2c7b540a540e6355aecdb7a892dd3fed310500b71"
 },
 "nbformat": 3,
 "nbformat_minor": 0,
 "worksheets": [
  {
   "cells": [
    {
     "cell_type": "code",
     "collapsed": false,
     "input": [
      "import sys\n",
      "\n"
     ],
     "language": "python",
     "metadata": {},
     "outputs": [],
     "prompt_number": 2
    },
    {
     "cell_type": "code",
     "collapsed": false,
     "input": [
      "from lc_lc import WS_graph\n"
     ],
     "language": "python",
     "metadata": {},
     "outputs": [],
     "prompt_number": 4
    },
    {
     "cell_type": "code",
     "collapsed": false,
     "input": [
      "WS_graph(100,10,100)"
     ],
     "language": "python",
     "metadata": {},
     "outputs": [
      {
       "output_type": "stream",
       "stream": "stdout",
       "text": [
        "[0.40766296296296284, 0.9914377777777779, 0.9820625925925925, 0.9786414814814819, 0.96249, 0.9463996296296296, 0.9139007407407405, 0.8617914814814815, 0.7720625925925932, 0.7171155555555557, 0.6511896296296297, 0.5862522222222224, 0.5379618518518517, 0.49500296296296314, 0.46171037037037016, 0.4359840740740742, 0.4160096296296295, 0.40763148148148154, 0.40761592592592594]\n",
        "[0.14155679865155502, 0.9993668181818179, 0.9992381818181818, 0.9986884090909092, 0.9974917424242424, 0.9962412012987015, 0.994116515151515, 0.9880820129870135, 0.9808588636363641, 0.9668986038961047, 0.9490961746586755, 0.9092002913752922, 0.8498954362304374, 0.7534088986013999, 0.6146756451881459, 0.4252499475524481, 0.23188317616851684, 0.14192028715737318, 0.13869103404851096]\n"
       ]
      },
      {
       "metadata": {},
       "output_type": "display_data",
       "png": "[encoded data removed]",
       "text": [
        "<matplotlib.figure.Figure at 0x7f49581b4e10>"
       ]
      }
     ],
     "prompt_number": 6
    },
    {
     "cell_type": "code",
     "collapsed": false,
     "input": [
      "def test(n):\n",
      "    if n==1:\n",
      "        return 1\n",
      "    return (n-1)\n",
      "\n",
      "test(3)"
     ],
     "language": "python",
     "metadata": {},
     "outputs": [
      {
       "metadata": {},
       "output_type": "pyout",
       "prompt_number": 14,
       "text": [
        "2"
       ]
      }
     ],
     "prompt_number": 14
    },
    {
     "cell_type": "code",
     "collapsed": false,
     "input": [],
     "language": "python",
     "metadata": {},
     "outputs": []
    }
   ],
   "metadata": {}
  }
 ]
}